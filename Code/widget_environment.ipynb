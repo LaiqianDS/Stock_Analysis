{
 "cells": [
  {
   "cell_type": "code",
   "execution_count": 1,
   "id": "0d5f1111-45f8-497d-b393-fc756e5743bf",
   "metadata": {},
   "outputs": [],
   "source": [
    "from finance import *"
   ]
  },
  {
   "cell_type": "code",
   "execution_count": 2,
   "id": "67c7ba9d-b056-4d87-b57c-6852f2bf32ae",
   "metadata": {},
   "outputs": [],
   "source": [
    "# Parámetros para función plot\n",
    "estilos = mpf.available_styles()\n",
    "tipos_graficos_disponibles = ['candle', 'ohlc', 'line']"
   ]
  },
  {
   "cell_type": "code",
   "execution_count": 3,
   "id": "93d57398-ffed-45ed-8716-2e8ba657b445",
   "metadata": {},
   "outputs": [],
   "source": [
    "########################################\n",
    "# Funciones auxiliares para Ipywidgets #\n",
    "########################################\n",
    "\n",
    "def pct_change1(ticker, start_date=str(date.today()-timedelta(days=365)), end_date=str(date.today())): #STR\n",
    "    \"\"\"\n",
    "    Dado un ticker, calcula el retorno si hubieramos invertido en la apertura del mercado\n",
    "    del día start_date hasta el cierre del día actual.\n",
    "    Formato de fecha: YYYY-MM-DD\n",
    "    \"\"\"\n",
    "    \n",
    "    # Descargar datos históricos desde start_date hasta end_date\n",
    "    data = get_prices(ticker, start=start_date, end=end_date)\n",
    "    \n",
    "    initial_price = data['Open'].iloc[0]  # Precio de apertura en start_date\n",
    "    last_price = data['Close'].iloc[-1]  # Precio de cierre actual\n",
    "    percent_change = ((last_price - initial_price) / initial_price)\n",
    "    \n",
    "    return round(percent_change, 4)\n",
    "\n",
    "def cagr1(ticker, start_date=str(date.today() - timedelta(days=365)), end_date=str(date.today())): #DATE\n",
    "    \"\"\"\n",
    "    Obtiene el CAGR (Compound Annual Growth Rate) de una empresa.\n",
    "    Para ello, toma los años enteros de diferencia desde el start_date hasta end_date, redondeando hacia abajo.\n",
    "    Si no se especifica año, solo obtiene el pct de cambio de un año\n",
    "    Formato de fecha: YYYY-MM-DD\n",
    "    \"\"\"\n",
    "    # Normalizar el formato de las fechas si son cadenas\n",
    "    if isinstance(start_date, str):\n",
    "        start_date = datetime.strptime(start_date, \"%Y-%m-%d\").date() if len(start_date) == 10 else datetime.strptime(start_date, \"%Y-%m-%d\")\n",
    "    if isinstance(end_date, str):\n",
    "        end_date = datetime.strptime(end_date, \"%Y-%m-%d\").date() if len(end_date) == 10 else datetime.strptime(end_date, \"%Y-%m-%d\")\n",
    "\n",
    "    # Descargar datos históricos desde start_date hasta end_date\n",
    "    data = get_prices(ticker, start=str(start_date), end=str(end_date))\n",
    "\n",
    "    anyos = int(((end_date - start_date).days / 365))  # Años de diferencia, redondeando hacia abajo\n",
    "    initial_price = data['Open'].iloc[0]  # Precio de apertura en start_date\n",
    "    last_price = data['Close'].iloc[-1]  # Precio de cierre actual\n",
    "    \n",
    "    cagr = ((last_price / initial_price) ** (1 / anyos) - 1)\n",
    "    return round(cagr, 4)\n",
    "\n",
    "def plot2(ticker, start_date=str(date.today()-timedelta(days=365)), end_date=str(date.today()),title='', volume=False,bollinger=False,info=False,\n",
    "         style=estilos, type=tipos_graficos_disponibles, adicionales = ['-','macd', 'rsi'], savefigaux='', savefig = False):\n",
    "    \"\"\"\n",
    "    Dada una fecha de inicio y una fecha de fin, realiza el gráfico de la cotización dentro de ese período.\n",
    "    Si no hay fecha de fin, toma el último día de cotización. \n",
    "    Otros atributos:\n",
    "    - volume: boolean\n",
    "    - style= consult mpf.available_styles(), 'yahoo' is at default,\n",
    "    - title= str,\n",
    "    - ylabel= str,\n",
    "    - ylabel_lower=str, \n",
    "    - savefig=str,\n",
    "    - type = lines/candles\n",
    "    - sma = tuple\n",
    "    - info= boolean, muestra por pantalla información general de la empresa\n",
    "    - macd= boolean, muestra el MACD\n",
    "    - rsi = boolean, muestra el RSI.\n",
    "    - bollinger = boolean, muestra las bandas de bollinger\n",
    "    NOTA SOBRE INDICADORES: Por convención, la presencia de un indicador excluirá los demás, puedes plotear varios llamando varias veces al método plot\n",
    "    Orden: macd > rsi \n",
    "    Formato de fecha: YYYY-MM-DD\n",
    "    \"\"\"\n",
    "    # Obtener los datos de cotización utilizando yfinance\n",
    "    data = get_prices(ticker, start=start_date, end=end_date)\n",
    "\n",
    "    # Normalización\n",
    "    if title=='': title = f'Cotización de {ticker}'\n",
    "    #if ylabel=='': ylabel='Price'\n",
    "    #if ylabel_lower=='': ylabel_lower='Volume'\n",
    "\n",
    "    # Adición de ténicos y graficación\n",
    "    if adicionales == 'macd': \n",
    "        ap = add_macd(data)\n",
    "        if bollinger: ap.extend(add_bbands(data))\n",
    "        if savefig is False:\n",
    "            mpf.plot(data, type=type, addplot=ap, volume=volume, volume_panel=2, style=style, title=title, ylabel='Price', ylabel_lower='Volume')\n",
    "        else:\n",
    "            mpf.plot(data, type=type, addplot=ap, volume=volume, volume_panel=2, style=style, title=title, ylabel='Price', ylabel_lower='Volume', savefig=savefigaux+'.png')\n",
    "    elif adicionales == 'rsi':\n",
    "        ap = add_rsi(data)\n",
    "        if bollinger: ap.extend(add_bbands(data))\n",
    "        if savefig is False:\n",
    "            mpf.plot(data, type=type, addplot=ap, volume=volume, volume_panel=2, style=style, title=title, ylabel='Price', ylabel_lower='Volume')\n",
    "        else:\n",
    "            mpf.plot(data, type=type, addplot=ap, volume=volume, volume_panel=2, style=style, title=title, ylabel='Price', ylabel_lower='Volume', savefig=savefigaux+'.png')\n",
    "\n",
    "    elif adicionales == '-':\n",
    "        ap = []\n",
    "        if bollinger:\n",
    "            ap.extend(add_bbands(data))\n",
    "        if savefig is False:\n",
    "            mpf.plot(data, type=type, volume=volume, addplot=ap, style=style, title=title, ylabel='Price', ylabel_lower='Volume')\n",
    "        else:\n",
    "            mpf.plot(data, type=type, volume=volume, addplot=ap, style=style, title=title, ylabel='Price', ylabel_lower='Volume', savefig=savefigaux+'.png')\n",
    "    if info:\n",
    "        load_repr_info(ticker)\n",
    "\n",
    "#####################################\n",
    "\n",
    "def loc_empresa(txt):\n",
    "    \"\"\"\n",
    "    Función auxiliar que recibe un string y busca si es substring de los tickers que hay en tickers.csv\n",
    "    \"\"\"\n",
    "    return [empr for empr in tickers if txt.lower() in empr.lower()]\n",
    "\n",
    "def on_date_change(selected_date):\n",
    "    \"\"\"\n",
    "    Función auxiliar para cambiar la fecha en el widget y limpiar la anterior interacción\n",
    "    \"\"\"\n",
    "    clear_output(wait=True)"
   ]
  },
  {
   "cell_type": "code",
   "execution_count": 4,
   "id": "c1aaf1cc-4654-48e8-a00e-a43287352986",
   "metadata": {},
   "outputs": [],
   "source": [
    "###############################\n",
    "# Lista con varios los tickers #\n",
    "###############################\n",
    "\n",
    "tickers = []\n",
    "\n",
    "with open('tickers.csv', 'r') as file:\n",
    "    csvfile = csv.reader(file, delimiter=',')\n",
    "    for l in csvfile:\n",
    "        primer = l[0]\n",
    "        tickers.append(primer[2:-1])\n",
    "\n",
    "del tickers[0]"
   ]
  },
  {
   "cell_type": "code",
   "execution_count": 5,
   "id": "85d6593b-08f5-4355-b5b1-280d2e166509",
   "metadata": {},
   "outputs": [],
   "source": [
    "def ejecutar_accion(Funciones):\n",
    "    if Funciones == 'Plot':\n",
    "        @widgets.interact\n",
    "        def manejar_empresa(txt='AAPL'):\n",
    "            empresas = loc_empresa(txt)\n",
    "            widgets.interact(\n",
    "                plot2,\n",
    "                ticker = empresas);\n",
    "\n",
    "    elif Funciones == 'Pct_Change':\n",
    "        @widgets.interact\n",
    "        def manejar_empresa(txt='AAPL'):\n",
    "            empresas = loc_empresa(txt)\n",
    "            widgets.interact(\n",
    "                pct_change1,\n",
    "                ticker = empresas);\n",
    "\n",
    "    elif Funciones == 'Cagr':\n",
    "        @widgets.interact\n",
    "        def manejar_empresa(txt='AAPL'):\n",
    "            empresas = loc_empresa(txt)\n",
    "            widgets.interact(\n",
    "                cagr1,\n",
    "                ticker = empresas);\n",
    "            "
   ]
  },
  {
   "cell_type": "code",
   "execution_count": 6,
   "id": "b4fb042a-a3e6-404f-b3f2-963c8465a7bc",
   "metadata": {},
   "outputs": [
    {
     "data": {
      "application/vnd.jupyter.widget-view+json": {
       "model_id": "da9303886942490fa4f6ce34941b1ea5",
       "version_major": 2,
       "version_minor": 0
      },
      "text/plain": [
       "interactive(children=(Dropdown(description='Funciones', options=('-', 'Plot', 'Pct_Change', 'Cagr'), value='-'…"
      ]
     },
     "metadata": {},
     "output_type": "display_data"
    },
    {
     "data": {
      "text/plain": [
       "<function __main__.ejecutar_accion(Funciones)>"
      ]
     },
     "execution_count": 6,
     "metadata": {},
     "output_type": "execute_result"
    }
   ],
   "source": [
    "widgets.interact(\n",
    "    ejecutar_accion, \n",
    "    Funciones = ['-','Plot', 'Pct_Change', 'Cagr']\n",
    ")"
   ]
  }
 ],
 "metadata": {
  "kernelspec": {
   "display_name": "Python 3 (ipykernel)",
   "language": "python",
   "name": "python3"
  },
  "language_info": {
   "codemirror_mode": {
    "name": "ipython",
    "version": 3
   },
   "file_extension": ".py",
   "mimetype": "text/x-python",
   "name": "python",
   "nbconvert_exporter": "python",
   "pygments_lexer": "ipython3",
   "version": "3.10.13"
  }
 },
 "nbformat": 4,
 "nbformat_minor": 5
}
