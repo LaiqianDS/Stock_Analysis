{
 "cells": [
  {
   "cell_type": "code",
   "execution_count": 9,
   "id": "0d5f1111-45f8-497d-b393-fc756e5743bf",
   "metadata": {},
   "outputs": [],
   "source": [
    "from test import *"
   ]
  },
  {
   "cell_type": "code",
   "execution_count": 10,
   "id": "67c7ba9d-b056-4d87-b57c-6852f2bf32ae",
   "metadata": {},
   "outputs": [],
   "source": [
    "# Parámetros para función plot\n",
    "estilos = mpf.available_styles()\n",
    "tipos_graficos_disponibles = ['candle', 'ohlc', 'line']"
   ]
  },
  {
   "cell_type": "code",
   "execution_count": 11,
   "id": "c1aaf1cc-4654-48e8-a00e-a43287352986",
   "metadata": {},
   "outputs": [],
   "source": [
    "###############################\n",
    "# Lista con todos los tickers #\n",
    "###############################\n",
    "\n",
    "tickers = []\n",
    "\n",
    "with open('tickers.csv', 'r') as file:\n",
    "    csvfile = csv.reader(file, delimiter=',')\n",
    "    for l in csvfile:\n",
    "        primer = l[0]\n",
    "        tickers.append(primer[2:-1])\n",
    "\n",
    "del tickers[0]"
   ]
  },
  {
   "cell_type": "code",
   "execution_count": 13,
   "id": "85d6593b-08f5-4355-b5b1-280d2e166509",
   "metadata": {},
   "outputs": [],
   "source": [
    "def ejecutar_accion(Funciones):\n",
    "    if Funciones == 'Plot':\n",
    "        @widgets.interact\n",
    "        def manejar_empresa(txt='AAPL'):\n",
    "            empresas = loc_empresa(txt)\n",
    "            widgets.interact(\n",
    "                plot2,\n",
    "                ticker = empresas);\n",
    "\n",
    "    elif Funciones == 'Pct_Change':\n",
    "        @widgets.interact\n",
    "        def manejar_empresa(txt='AAPL'):\n",
    "            empresas = loc_empresa(txt)\n",
    "            widgets.interact(\n",
    "                pct_change1,\n",
    "                ticker = empresas);\n",
    "\n",
    "    elif Funciones == 'Cagr':\n",
    "        @widgets.interact\n",
    "        def manejar_empresa(txt='AAPL'):\n",
    "            empresas = loc_empresa(txt)\n",
    "            widgets.interact(\n",
    "                cagr1,\n",
    "                ticker = empresas);\n",
    "            "
   ]
  },
  {
   "cell_type": "code",
   "execution_count": 14,
   "id": "b4fb042a-a3e6-404f-b3f2-963c8465a7bc",
   "metadata": {},
   "outputs": [
    {
     "data": {
      "application/vnd.jupyter.widget-view+json": {
       "model_id": "3b37d8108a634e31bee2f4a7971ffd48",
       "version_major": 2,
       "version_minor": 0
      },
      "text/plain": [
       "interactive(children=(Dropdown(description='Funciones', options=('-', 'Plot', 'Pct_Change', 'Cagr'), value='-'…"
      ]
     },
     "metadata": {},
     "output_type": "display_data"
    },
    {
     "data": {
      "text/plain": [
       "<function __main__.ejecutar_accion(Funciones)>"
      ]
     },
     "execution_count": 14,
     "metadata": {},
     "output_type": "execute_result"
    }
   ],
   "source": [
    "widgets.interact(\n",
    "    ejecutar_accion, \n",
    "    Funciones = ['-','Plot', 'Pct_Change', 'Cagr']\n",
    ")"
   ]
  }
 ],
 "metadata": {
  "kernelspec": {
   "display_name": "Python 3 (ipykernel)",
   "language": "python",
   "name": "python3"
  },
  "language_info": {
   "codemirror_mode": {
    "name": "ipython",
    "version": 3
   },
   "file_extension": ".py",
   "mimetype": "text/x-python",
   "name": "python",
   "nbconvert_exporter": "python",
   "pygments_lexer": "ipython3",
   "version": "3.10.13"
  }
 },
 "nbformat": 4,
 "nbformat_minor": 5
}
